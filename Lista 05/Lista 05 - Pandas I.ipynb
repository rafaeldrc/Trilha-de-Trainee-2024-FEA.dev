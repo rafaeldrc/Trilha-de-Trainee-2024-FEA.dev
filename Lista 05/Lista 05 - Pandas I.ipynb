{
 "cells": [
  {
   "cell_type": "markdown",
   "metadata": {},
   "source": [
    "# Fala devs, blz?? \n",
    "\n",
    "Esta será nossa quinta lista de exercícios para você testar seu conhecimento acerca do conteúdo do MÓDULO 3:\n",
    "\n",
    "-Pandas I"
   ]
  },
  {
   "cell_type": "markdown",
   "metadata": {},
   "source": [
    "Para esta lista de exercícios utilizaremos uma base de dados contendo informações sobre a performance de alunos em exames\n",
    ". A base de dados está disponível para download na plataforma Kaggle a partir do link abaixo:"
   ]
  },
  {
   "cell_type": "markdown",
   "metadata": {},
   "source": [
    "https://www.kaggle.com/datasets/spscientist/students-performance-in-exams"
   ]
  },
  {
   "cell_type": "markdown",
   "metadata": {},
   "source": [
    "## QUESTÃO 0"
   ]
  },
  {
   "cell_type": "markdown",
   "metadata": {},
   "source": [
    "Carregue os dados do arquivo \"StudentPerformance.csv\" em um DataFrame com nome \"df\" e mostre as primeiras suas 10 primeiras linhas. \n",
    "<br>\n",
    "*Certifique-se de que o arquivo se encontra no mesmo diretorio da lista 5."
   ]
  },
  {
   "cell_type": "code",
   "execution_count": 4,
   "metadata": {},
   "outputs": [
    {
     "name": "stdout",
     "output_type": "stream",
     "text": [
      "Requirement already satisfied: pandas in c:\\users\\rafae\\appdata\\local\\programs\\python\\python312\\lib\\site-packages (2.2.2)\n",
      "Requirement already satisfied: numpy>=1.26.0 in c:\\users\\rafae\\appdata\\local\\programs\\python\\python312\\lib\\site-packages (from pandas) (1.26.4)\n",
      "Requirement already satisfied: python-dateutil>=2.8.2 in c:\\users\\rafae\\appdata\\roaming\\python\\python312\\site-packages (from pandas) (2.9.0.post0)\n",
      "Requirement already satisfied: pytz>=2020.1 in c:\\users\\rafae\\appdata\\local\\programs\\python\\python312\\lib\\site-packages (from pandas) (2024.1)\n",
      "Requirement already satisfied: tzdata>=2022.7 in c:\\users\\rafae\\appdata\\local\\programs\\python\\python312\\lib\\site-packages (from pandas) (2024.1)\n",
      "Requirement already satisfied: six>=1.5 in c:\\users\\rafae\\appdata\\roaming\\python\\python312\\site-packages (from python-dateutil>=2.8.2->pandas) (1.16.0)\n"
     ]
    },
    {
     "data": {
      "text/html": [
       "<div>\n",
       "<style scoped>\n",
       "    .dataframe tbody tr th:only-of-type {\n",
       "        vertical-align: middle;\n",
       "    }\n",
       "\n",
       "    .dataframe tbody tr th {\n",
       "        vertical-align: top;\n",
       "    }\n",
       "\n",
       "    .dataframe thead th {\n",
       "        text-align: right;\n",
       "    }\n",
       "</style>\n",
       "<table border=\"1\" class=\"dataframe\">\n",
       "  <thead>\n",
       "    <tr style=\"text-align: right;\">\n",
       "      <th></th>\n",
       "      <th>gender</th>\n",
       "      <th>race/ethnicity</th>\n",
       "      <th>parental level of education</th>\n",
       "      <th>lunch</th>\n",
       "      <th>test preparation course</th>\n",
       "      <th>math score</th>\n",
       "      <th>reading score</th>\n",
       "      <th>writing score</th>\n",
       "    </tr>\n",
       "  </thead>\n",
       "  <tbody>\n",
       "    <tr>\n",
       "      <th>0</th>\n",
       "      <td>female</td>\n",
       "      <td>group B</td>\n",
       "      <td>bachelor's degree</td>\n",
       "      <td>standard</td>\n",
       "      <td>none</td>\n",
       "      <td>72</td>\n",
       "      <td>72</td>\n",
       "      <td>74</td>\n",
       "    </tr>\n",
       "    <tr>\n",
       "      <th>1</th>\n",
       "      <td>female</td>\n",
       "      <td>group C</td>\n",
       "      <td>some college</td>\n",
       "      <td>standard</td>\n",
       "      <td>completed</td>\n",
       "      <td>69</td>\n",
       "      <td>90</td>\n",
       "      <td>88</td>\n",
       "    </tr>\n",
       "    <tr>\n",
       "      <th>2</th>\n",
       "      <td>female</td>\n",
       "      <td>group B</td>\n",
       "      <td>master's degree</td>\n",
       "      <td>standard</td>\n",
       "      <td>none</td>\n",
       "      <td>90</td>\n",
       "      <td>95</td>\n",
       "      <td>93</td>\n",
       "    </tr>\n",
       "    <tr>\n",
       "      <th>3</th>\n",
       "      <td>male</td>\n",
       "      <td>group A</td>\n",
       "      <td>associate's degree</td>\n",
       "      <td>free/reduced</td>\n",
       "      <td>none</td>\n",
       "      <td>47</td>\n",
       "      <td>57</td>\n",
       "      <td>44</td>\n",
       "    </tr>\n",
       "    <tr>\n",
       "      <th>4</th>\n",
       "      <td>male</td>\n",
       "      <td>group C</td>\n",
       "      <td>some college</td>\n",
       "      <td>standard</td>\n",
       "      <td>none</td>\n",
       "      <td>76</td>\n",
       "      <td>78</td>\n",
       "      <td>75</td>\n",
       "    </tr>\n",
       "    <tr>\n",
       "      <th>5</th>\n",
       "      <td>female</td>\n",
       "      <td>group B</td>\n",
       "      <td>associate's degree</td>\n",
       "      <td>standard</td>\n",
       "      <td>none</td>\n",
       "      <td>71</td>\n",
       "      <td>83</td>\n",
       "      <td>78</td>\n",
       "    </tr>\n",
       "    <tr>\n",
       "      <th>6</th>\n",
       "      <td>female</td>\n",
       "      <td>group B</td>\n",
       "      <td>some college</td>\n",
       "      <td>standard</td>\n",
       "      <td>completed</td>\n",
       "      <td>88</td>\n",
       "      <td>95</td>\n",
       "      <td>92</td>\n",
       "    </tr>\n",
       "    <tr>\n",
       "      <th>7</th>\n",
       "      <td>male</td>\n",
       "      <td>group B</td>\n",
       "      <td>some college</td>\n",
       "      <td>free/reduced</td>\n",
       "      <td>none</td>\n",
       "      <td>40</td>\n",
       "      <td>43</td>\n",
       "      <td>39</td>\n",
       "    </tr>\n",
       "    <tr>\n",
       "      <th>8</th>\n",
       "      <td>male</td>\n",
       "      <td>group D</td>\n",
       "      <td>high school</td>\n",
       "      <td>free/reduced</td>\n",
       "      <td>completed</td>\n",
       "      <td>64</td>\n",
       "      <td>64</td>\n",
       "      <td>67</td>\n",
       "    </tr>\n",
       "    <tr>\n",
       "      <th>9</th>\n",
       "      <td>female</td>\n",
       "      <td>group B</td>\n",
       "      <td>high school</td>\n",
       "      <td>free/reduced</td>\n",
       "      <td>none</td>\n",
       "      <td>38</td>\n",
       "      <td>60</td>\n",
       "      <td>50</td>\n",
       "    </tr>\n",
       "  </tbody>\n",
       "</table>\n",
       "</div>"
      ],
      "text/plain": [
       "   gender race/ethnicity parental level of education         lunch  \\\n",
       "0  female        group B           bachelor's degree      standard   \n",
       "1  female        group C                some college      standard   \n",
       "2  female        group B             master's degree      standard   \n",
       "3    male        group A          associate's degree  free/reduced   \n",
       "4    male        group C                some college      standard   \n",
       "5  female        group B          associate's degree      standard   \n",
       "6  female        group B                some college      standard   \n",
       "7    male        group B                some college  free/reduced   \n",
       "8    male        group D                 high school  free/reduced   \n",
       "9  female        group B                 high school  free/reduced   \n",
       "\n",
       "  test preparation course  math score  reading score  writing score  \n",
       "0                    none          72             72             74  \n",
       "1               completed          69             90             88  \n",
       "2                    none          90             95             93  \n",
       "3                    none          47             57             44  \n",
       "4                    none          76             78             75  \n",
       "5                    none          71             83             78  \n",
       "6               completed          88             95             92  \n",
       "7                    none          40             43             39  \n",
       "8               completed          64             64             67  \n",
       "9                    none          38             60             50  "
      ]
     },
     "execution_count": 4,
     "metadata": {},
     "output_type": "execute_result"
    }
   ],
   "source": [
    "!pip install pandas\n",
    "\n",
    "import pandas as pd\n",
    "\n",
    "#seu código começa aqui\n",
    "\n",
    "df = pd.read_csv(\"StudentsPerformance.csv\")\n",
    "\n",
    "df.head(10)\n"
   ]
  },
  {
   "cell_type": "markdown",
   "metadata": {},
   "source": [
    "Agora mostre as 10 **últimas** linhas do DataFrame."
   ]
  },
  {
   "cell_type": "code",
   "execution_count": 7,
   "metadata": {},
   "outputs": [
    {
     "data": {
      "text/html": [
       "<div>\n",
       "<style scoped>\n",
       "    .dataframe tbody tr th:only-of-type {\n",
       "        vertical-align: middle;\n",
       "    }\n",
       "\n",
       "    .dataframe tbody tr th {\n",
       "        vertical-align: top;\n",
       "    }\n",
       "\n",
       "    .dataframe thead th {\n",
       "        text-align: right;\n",
       "    }\n",
       "</style>\n",
       "<table border=\"1\" class=\"dataframe\">\n",
       "  <thead>\n",
       "    <tr style=\"text-align: right;\">\n",
       "      <th></th>\n",
       "      <th>gender</th>\n",
       "      <th>race/ethnicity</th>\n",
       "      <th>parental level of education</th>\n",
       "      <th>lunch</th>\n",
       "      <th>test preparation course</th>\n",
       "      <th>math score</th>\n",
       "      <th>reading score</th>\n",
       "      <th>writing score</th>\n",
       "    </tr>\n",
       "  </thead>\n",
       "  <tbody>\n",
       "    <tr>\n",
       "      <th>990</th>\n",
       "      <td>male</td>\n",
       "      <td>group E</td>\n",
       "      <td>high school</td>\n",
       "      <td>free/reduced</td>\n",
       "      <td>completed</td>\n",
       "      <td>86</td>\n",
       "      <td>81</td>\n",
       "      <td>75</td>\n",
       "    </tr>\n",
       "    <tr>\n",
       "      <th>991</th>\n",
       "      <td>female</td>\n",
       "      <td>group B</td>\n",
       "      <td>some high school</td>\n",
       "      <td>standard</td>\n",
       "      <td>completed</td>\n",
       "      <td>65</td>\n",
       "      <td>82</td>\n",
       "      <td>78</td>\n",
       "    </tr>\n",
       "    <tr>\n",
       "      <th>992</th>\n",
       "      <td>female</td>\n",
       "      <td>group D</td>\n",
       "      <td>associate's degree</td>\n",
       "      <td>free/reduced</td>\n",
       "      <td>none</td>\n",
       "      <td>55</td>\n",
       "      <td>76</td>\n",
       "      <td>76</td>\n",
       "    </tr>\n",
       "    <tr>\n",
       "      <th>993</th>\n",
       "      <td>female</td>\n",
       "      <td>group D</td>\n",
       "      <td>bachelor's degree</td>\n",
       "      <td>free/reduced</td>\n",
       "      <td>none</td>\n",
       "      <td>62</td>\n",
       "      <td>72</td>\n",
       "      <td>74</td>\n",
       "    </tr>\n",
       "    <tr>\n",
       "      <th>994</th>\n",
       "      <td>male</td>\n",
       "      <td>group A</td>\n",
       "      <td>high school</td>\n",
       "      <td>standard</td>\n",
       "      <td>none</td>\n",
       "      <td>63</td>\n",
       "      <td>63</td>\n",
       "      <td>62</td>\n",
       "    </tr>\n",
       "    <tr>\n",
       "      <th>995</th>\n",
       "      <td>female</td>\n",
       "      <td>group E</td>\n",
       "      <td>master's degree</td>\n",
       "      <td>standard</td>\n",
       "      <td>completed</td>\n",
       "      <td>88</td>\n",
       "      <td>99</td>\n",
       "      <td>95</td>\n",
       "    </tr>\n",
       "    <tr>\n",
       "      <th>996</th>\n",
       "      <td>male</td>\n",
       "      <td>group C</td>\n",
       "      <td>high school</td>\n",
       "      <td>free/reduced</td>\n",
       "      <td>none</td>\n",
       "      <td>62</td>\n",
       "      <td>55</td>\n",
       "      <td>55</td>\n",
       "    </tr>\n",
       "    <tr>\n",
       "      <th>997</th>\n",
       "      <td>female</td>\n",
       "      <td>group C</td>\n",
       "      <td>high school</td>\n",
       "      <td>free/reduced</td>\n",
       "      <td>completed</td>\n",
       "      <td>59</td>\n",
       "      <td>71</td>\n",
       "      <td>65</td>\n",
       "    </tr>\n",
       "    <tr>\n",
       "      <th>998</th>\n",
       "      <td>female</td>\n",
       "      <td>group D</td>\n",
       "      <td>some college</td>\n",
       "      <td>standard</td>\n",
       "      <td>completed</td>\n",
       "      <td>68</td>\n",
       "      <td>78</td>\n",
       "      <td>77</td>\n",
       "    </tr>\n",
       "    <tr>\n",
       "      <th>999</th>\n",
       "      <td>female</td>\n",
       "      <td>group D</td>\n",
       "      <td>some college</td>\n",
       "      <td>free/reduced</td>\n",
       "      <td>none</td>\n",
       "      <td>77</td>\n",
       "      <td>86</td>\n",
       "      <td>86</td>\n",
       "    </tr>\n",
       "  </tbody>\n",
       "</table>\n",
       "</div>"
      ],
      "text/plain": [
       "     gender race/ethnicity parental level of education         lunch  \\\n",
       "990    male        group E                 high school  free/reduced   \n",
       "991  female        group B            some high school      standard   \n",
       "992  female        group D          associate's degree  free/reduced   \n",
       "993  female        group D           bachelor's degree  free/reduced   \n",
       "994    male        group A                 high school      standard   \n",
       "995  female        group E             master's degree      standard   \n",
       "996    male        group C                 high school  free/reduced   \n",
       "997  female        group C                 high school  free/reduced   \n",
       "998  female        group D                some college      standard   \n",
       "999  female        group D                some college  free/reduced   \n",
       "\n",
       "    test preparation course  math score  reading score  writing score  \n",
       "990               completed          86             81             75  \n",
       "991               completed          65             82             78  \n",
       "992                    none          55             76             76  \n",
       "993                    none          62             72             74  \n",
       "994                    none          63             63             62  \n",
       "995               completed          88             99             95  \n",
       "996                    none          62             55             55  \n",
       "997               completed          59             71             65  \n",
       "998               completed          68             78             77  \n",
       "999                    none          77             86             86  "
      ]
     },
     "execution_count": 7,
     "metadata": {},
     "output_type": "execute_result"
    }
   ],
   "source": [
    "#SEU CÓDIGO COMEÇA AQUI\n",
    "df.tail(10)"
   ]
  },
  {
   "cell_type": "markdown",
   "metadata": {},
   "source": [
    "## QUESTÃO 1"
   ]
  },
  {
   "cell_type": "markdown",
   "metadata": {},
   "source": [
    "**Exploração Inicial dos Dados**\n",
    "\n",
    "a) Verifique o número de linhas e colunas no DataFrame. **(.shape)**"
   ]
  },
  {
   "cell_type": "code",
   "execution_count": 9,
   "metadata": {},
   "outputs": [
    {
     "data": {
      "text/plain": [
       "(1000, 8)"
      ]
     },
     "execution_count": 9,
     "metadata": {},
     "output_type": "execute_result"
    }
   ],
   "source": [
    "#SEU CÓDIGO COMEÇA AQUI\n",
    "df.shape"
   ]
  },
  {
   "cell_type": "markdown",
   "metadata": {},
   "source": [
    "b) Liste as colunas presentes no DataFrame. **(.columns)**"
   ]
  },
  {
   "cell_type": "code",
   "execution_count": 10,
   "metadata": {},
   "outputs": [
    {
     "data": {
      "text/plain": [
       "Index(['gender', 'race/ethnicity', 'parental level of education', 'lunch',\n",
       "       'test preparation course', 'math score', 'reading score',\n",
       "       'writing score'],\n",
       "      dtype='object')"
      ]
     },
     "execution_count": 10,
     "metadata": {},
     "output_type": "execute_result"
    }
   ],
   "source": [
    "#SEU CÓDIGO COMEÇA AQUI\n",
    "df.columns"
   ]
  },
  {
   "cell_type": "markdown",
   "metadata": {},
   "source": [
    "c) Verifique se há valores nulos em cada coluna."
   ]
  },
  {
   "cell_type": "code",
   "execution_count": 14,
   "metadata": {},
   "outputs": [
    {
     "data": {
      "text/plain": [
       "False"
      ]
     },
     "execution_count": 14,
     "metadata": {},
     "output_type": "execute_result"
    }
   ],
   "source": [
    "#SEU CÓDIGO COMEÇA AQUI\n",
    "df.isnull().values.any()"
   ]
  },
  {
   "cell_type": "markdown",
   "metadata": {},
   "source": [
    "## QUESTÃO 2"
   ]
  },
  {
   "cell_type": "markdown",
   "metadata": {},
   "source": [
    "a) Antes de começarmos a trabalhar com os dados é preciso descartar dados que não serão utilizados em nossa análise. Utilize a lista abaixo para remover colunas irrelevantes."
   ]
  },
  {
   "cell_type": "code",
   "execution_count": 17,
   "metadata": {},
   "outputs": [
    {
     "data": {
      "text/html": [
       "<div>\n",
       "<style scoped>\n",
       "    .dataframe tbody tr th:only-of-type {\n",
       "        vertical-align: middle;\n",
       "    }\n",
       "\n",
       "    .dataframe tbody tr th {\n",
       "        vertical-align: top;\n",
       "    }\n",
       "\n",
       "    .dataframe thead th {\n",
       "        text-align: right;\n",
       "    }\n",
       "</style>\n",
       "<table border=\"1\" class=\"dataframe\">\n",
       "  <thead>\n",
       "    <tr style=\"text-align: right;\">\n",
       "      <th></th>\n",
       "      <th>gender</th>\n",
       "      <th>race/ethnicity</th>\n",
       "      <th>test preparation course</th>\n",
       "      <th>math score</th>\n",
       "      <th>reading score</th>\n",
       "      <th>writing score</th>\n",
       "    </tr>\n",
       "  </thead>\n",
       "  <tbody>\n",
       "    <tr>\n",
       "      <th>0</th>\n",
       "      <td>female</td>\n",
       "      <td>group B</td>\n",
       "      <td>none</td>\n",
       "      <td>72</td>\n",
       "      <td>72</td>\n",
       "      <td>74</td>\n",
       "    </tr>\n",
       "    <tr>\n",
       "      <th>1</th>\n",
       "      <td>female</td>\n",
       "      <td>group C</td>\n",
       "      <td>completed</td>\n",
       "      <td>69</td>\n",
       "      <td>90</td>\n",
       "      <td>88</td>\n",
       "    </tr>\n",
       "    <tr>\n",
       "      <th>2</th>\n",
       "      <td>female</td>\n",
       "      <td>group B</td>\n",
       "      <td>none</td>\n",
       "      <td>90</td>\n",
       "      <td>95</td>\n",
       "      <td>93</td>\n",
       "    </tr>\n",
       "    <tr>\n",
       "      <th>3</th>\n",
       "      <td>male</td>\n",
       "      <td>group A</td>\n",
       "      <td>none</td>\n",
       "      <td>47</td>\n",
       "      <td>57</td>\n",
       "      <td>44</td>\n",
       "    </tr>\n",
       "    <tr>\n",
       "      <th>4</th>\n",
       "      <td>male</td>\n",
       "      <td>group C</td>\n",
       "      <td>none</td>\n",
       "      <td>76</td>\n",
       "      <td>78</td>\n",
       "      <td>75</td>\n",
       "    </tr>\n",
       "  </tbody>\n",
       "</table>\n",
       "</div>"
      ],
      "text/plain": [
       "   gender race/ethnicity test preparation course  math score  reading score  \\\n",
       "0  female        group B                    none          72             72   \n",
       "1  female        group C               completed          69             90   \n",
       "2  female        group B                    none          90             95   \n",
       "3    male        group A                    none          47             57   \n",
       "4    male        group C                    none          76             78   \n",
       "\n",
       "   writing score  \n",
       "0             74  \n",
       "1             88  \n",
       "2             93  \n",
       "3             44  \n",
       "4             75  "
      ]
     },
     "execution_count": 17,
     "metadata": {},
     "output_type": "execute_result"
    }
   ],
   "source": [
    "remover = [\"parental level of education\",\"lunch\"]\n",
    "\n",
    "#SEU CÓDIGO COMEÇA AQUI\n",
    "df.drop(remover, axis = 1, inplace= True)\n",
    "df.head()"
   ]
  },
  {
   "cell_type": "markdown",
   "metadata": {},
   "source": [
    "b) Agora utilize o dicionário abaixo para renomear as colunas restantes."
   ]
  },
  {
   "cell_type": "code",
   "execution_count": 25,
   "metadata": {},
   "outputs": [
    {
     "data": {
      "text/html": [
       "<div>\n",
       "<style scoped>\n",
       "    .dataframe tbody tr th:only-of-type {\n",
       "        vertical-align: middle;\n",
       "    }\n",
       "\n",
       "    .dataframe tbody tr th {\n",
       "        vertical-align: top;\n",
       "    }\n",
       "\n",
       "    .dataframe thead th {\n",
       "        text-align: right;\n",
       "    }\n",
       "</style>\n",
       "<table border=\"1\" class=\"dataframe\">\n",
       "  <thead>\n",
       "    <tr style=\"text-align: right;\">\n",
       "      <th></th>\n",
       "      <th>Gênero</th>\n",
       "      <th>Raça/Etnia</th>\n",
       "      <th>Curso_Prep</th>\n",
       "      <th>Nota_Matemática</th>\n",
       "      <th>Nota_Leitura</th>\n",
       "      <th>Nota_Redação</th>\n",
       "    </tr>\n",
       "  </thead>\n",
       "  <tbody>\n",
       "    <tr>\n",
       "      <th>0</th>\n",
       "      <td>female</td>\n",
       "      <td>group B</td>\n",
       "      <td>none</td>\n",
       "      <td>72</td>\n",
       "      <td>72</td>\n",
       "      <td>74</td>\n",
       "    </tr>\n",
       "    <tr>\n",
       "      <th>1</th>\n",
       "      <td>female</td>\n",
       "      <td>group C</td>\n",
       "      <td>completed</td>\n",
       "      <td>69</td>\n",
       "      <td>90</td>\n",
       "      <td>88</td>\n",
       "    </tr>\n",
       "    <tr>\n",
       "      <th>2</th>\n",
       "      <td>female</td>\n",
       "      <td>group B</td>\n",
       "      <td>none</td>\n",
       "      <td>90</td>\n",
       "      <td>95</td>\n",
       "      <td>93</td>\n",
       "    </tr>\n",
       "    <tr>\n",
       "      <th>3</th>\n",
       "      <td>male</td>\n",
       "      <td>group A</td>\n",
       "      <td>none</td>\n",
       "      <td>47</td>\n",
       "      <td>57</td>\n",
       "      <td>44</td>\n",
       "    </tr>\n",
       "    <tr>\n",
       "      <th>4</th>\n",
       "      <td>male</td>\n",
       "      <td>group C</td>\n",
       "      <td>none</td>\n",
       "      <td>76</td>\n",
       "      <td>78</td>\n",
       "      <td>75</td>\n",
       "    </tr>\n",
       "  </tbody>\n",
       "</table>\n",
       "</div>"
      ],
      "text/plain": [
       "   Gênero Raça/Etnia Curso_Prep  Nota_Matemática  Nota_Leitura  Nota_Redação\n",
       "0  female    group B       none               72            72            74\n",
       "1  female    group C  completed               69            90            88\n",
       "2  female    group B       none               90            95            93\n",
       "3    male    group A       none               47            57            44\n",
       "4    male    group C       none               76            78            75"
      ]
     },
     "execution_count": 25,
     "metadata": {},
     "output_type": "execute_result"
    }
   ],
   "source": [
    "nome_colunas = {\n",
    "    \"gender\": \"Gênero\",\n",
    "    \"race/ethnicity\": \"Raça/Etnia\",\n",
    "    \"test preparation course\": \"Curso_Prep\",\n",
    "    \"math score\" : \"Nota_Matemática\",\n",
    "    \"reading score\":\"Nota_Leitura\",\n",
    "    \"writing score\" : \"Nota_Redação\"\n",
    "}\n",
    "\n",
    "#SEU CÓDIGO COMEÇA AQUI\n",
    "df.rename(columns= nome_colunas, inplace = True)\n",
    "df.head()"
   ]
  },
  {
   "cell_type": "markdown",
   "metadata": {},
   "source": [
    "## QUESTÃO 3"
   ]
  },
  {
   "cell_type": "markdown",
   "metadata": {},
   "source": [
    "Crie um DataFrame com as estatísticas descritivas de cada coluna com valores númericos. Estatísticas descritivas incluem dados como: média, mediana, desvio padrão, mínimo e máximo para cada uma dessas colunas."
   ]
  },
  {
   "cell_type": "code",
   "execution_count": 26,
   "metadata": {},
   "outputs": [
    {
     "data": {
      "text/html": [
       "<div>\n",
       "<style scoped>\n",
       "    .dataframe tbody tr th:only-of-type {\n",
       "        vertical-align: middle;\n",
       "    }\n",
       "\n",
       "    .dataframe tbody tr th {\n",
       "        vertical-align: top;\n",
       "    }\n",
       "\n",
       "    .dataframe thead th {\n",
       "        text-align: right;\n",
       "    }\n",
       "</style>\n",
       "<table border=\"1\" class=\"dataframe\">\n",
       "  <thead>\n",
       "    <tr style=\"text-align: right;\">\n",
       "      <th></th>\n",
       "      <th>Nota_Matemática</th>\n",
       "      <th>Nota_Leitura</th>\n",
       "      <th>Nota_Redação</th>\n",
       "    </tr>\n",
       "  </thead>\n",
       "  <tbody>\n",
       "    <tr>\n",
       "      <th>count</th>\n",
       "      <td>1000.00000</td>\n",
       "      <td>1000.000000</td>\n",
       "      <td>1000.000000</td>\n",
       "    </tr>\n",
       "    <tr>\n",
       "      <th>mean</th>\n",
       "      <td>66.08900</td>\n",
       "      <td>69.169000</td>\n",
       "      <td>68.054000</td>\n",
       "    </tr>\n",
       "    <tr>\n",
       "      <th>std</th>\n",
       "      <td>15.16308</td>\n",
       "      <td>14.600192</td>\n",
       "      <td>15.195657</td>\n",
       "    </tr>\n",
       "    <tr>\n",
       "      <th>min</th>\n",
       "      <td>0.00000</td>\n",
       "      <td>17.000000</td>\n",
       "      <td>10.000000</td>\n",
       "    </tr>\n",
       "    <tr>\n",
       "      <th>25%</th>\n",
       "      <td>57.00000</td>\n",
       "      <td>59.000000</td>\n",
       "      <td>57.750000</td>\n",
       "    </tr>\n",
       "    <tr>\n",
       "      <th>50%</th>\n",
       "      <td>66.00000</td>\n",
       "      <td>70.000000</td>\n",
       "      <td>69.000000</td>\n",
       "    </tr>\n",
       "    <tr>\n",
       "      <th>75%</th>\n",
       "      <td>77.00000</td>\n",
       "      <td>79.000000</td>\n",
       "      <td>79.000000</td>\n",
       "    </tr>\n",
       "    <tr>\n",
       "      <th>max</th>\n",
       "      <td>100.00000</td>\n",
       "      <td>100.000000</td>\n",
       "      <td>100.000000</td>\n",
       "    </tr>\n",
       "  </tbody>\n",
       "</table>\n",
       "</div>"
      ],
      "text/plain": [
       "       Nota_Matemática  Nota_Leitura  Nota_Redação\n",
       "count       1000.00000   1000.000000   1000.000000\n",
       "mean          66.08900     69.169000     68.054000\n",
       "std           15.16308     14.600192     15.195657\n",
       "min            0.00000     17.000000     10.000000\n",
       "25%           57.00000     59.000000     57.750000\n",
       "50%           66.00000     70.000000     69.000000\n",
       "75%           77.00000     79.000000     79.000000\n",
       "max          100.00000    100.000000    100.000000"
      ]
     },
     "execution_count": 26,
     "metadata": {},
     "output_type": "execute_result"
    }
   ],
   "source": [
    "#SEU CÓDIGO COMEÇA AQUI\n",
    "df.describe()"
   ]
  },
  {
   "cell_type": "markdown",
   "metadata": {},
   "source": [
    "## QUESTÃO 4"
   ]
  },
  {
   "cell_type": "markdown",
   "metadata": {},
   "source": [
    "Crie um novo DataFrame contendo apenas os alunos que tiveram nota maior que a média em todos os exames chamado \"df_acima_media\". Mostre o DataFrame resultante e quantos dos alunos totais estão na nova tabela."
   ]
  },
  {
   "cell_type": "code",
   "execution_count": 51,
   "metadata": {},
   "outputs": [
    {
     "name": "stdout",
     "output_type": "stream",
     "text": [
      "Na base original haviam 1000 alunos no total. Desses, 374 são acima da média.\n"
     ]
    }
   ],
   "source": [
    "#SEU CÓDIGO COMEÇA AQUI\n",
    "import numpy as np\n",
    "\n",
    "condicao4 = [(df['Nota_Matemática'] > df['Nota_Matemática'].mean())&(df['Nota_Leitura'] > df['Nota_Leitura'].mean())&(df['Nota_Redação'] > df['Nota_Redação'].mean()), (df['Nota_Matemática'] <= df['Nota_Matemática'].mean()), (df['Nota_Leitura'] <= df['Nota_Leitura'].mean()), (df['Nota_Redação'] <= df['Nota_Redação'].mean())]\n",
    "\n",
    "valores = ['Sim', 'Não', 'Não', 'Não']\n",
    "\n",
    "df['Aluno acima da média'] = np.select(condicao4, valores)\n",
    "#df.head()\n",
    "mask4 = df['Aluno acima da média'] == 'Sim'\n",
    "df_acima_media = df[mask4]\n",
    "#df_acima_media.head()\n",
    "print(f'Na base original haviam {df['Aluno acima da média'].count()} alunos no total. Desses, {df_acima_media['Aluno acima da média'].count()} são acima da média.')"
   ]
  },
  {
   "cell_type": "markdown",
   "metadata": {},
   "source": [
    "## QUESTÃO 5"
   ]
  },
  {
   "cell_type": "markdown",
   "metadata": {},
   "source": [
    "Crie uma nova coluna no Dataframe \"df\" com o nome \"Nota_Geral\" que represente a média da nota de cada aluno nas 3 disciplinas. Utilize esta nova coluna para ordenar os alunos de acordo com sua nota de forma que o aluno com maior nota geral esteja na primeira linha do DataFrame."
   ]
  },
  {
   "cell_type": "code",
   "execution_count": 63,
   "metadata": {},
   "outputs": [
    {
     "data": {
      "text/html": [
       "<div>\n",
       "<style scoped>\n",
       "    .dataframe tbody tr th:only-of-type {\n",
       "        vertical-align: middle;\n",
       "    }\n",
       "\n",
       "    .dataframe tbody tr th {\n",
       "        vertical-align: top;\n",
       "    }\n",
       "\n",
       "    .dataframe thead th {\n",
       "        text-align: right;\n",
       "    }\n",
       "</style>\n",
       "<table border=\"1\" class=\"dataframe\">\n",
       "  <thead>\n",
       "    <tr style=\"text-align: right;\">\n",
       "      <th></th>\n",
       "      <th>Gênero</th>\n",
       "      <th>Raça/Etnia</th>\n",
       "      <th>Curso_Prep</th>\n",
       "      <th>Nota_Matemática</th>\n",
       "      <th>Nota_Leitura</th>\n",
       "      <th>Nota_Redação</th>\n",
       "      <th>Aluno acima da média</th>\n",
       "      <th>Nota_Geral</th>\n",
       "    </tr>\n",
       "  </thead>\n",
       "  <tbody>\n",
       "    <tr>\n",
       "      <th>962</th>\n",
       "      <td>female</td>\n",
       "      <td>group E</td>\n",
       "      <td>none</td>\n",
       "      <td>100</td>\n",
       "      <td>100</td>\n",
       "      <td>100</td>\n",
       "      <td>Sim</td>\n",
       "      <td>100.000000</td>\n",
       "    </tr>\n",
       "    <tr>\n",
       "      <th>916</th>\n",
       "      <td>male</td>\n",
       "      <td>group E</td>\n",
       "      <td>completed</td>\n",
       "      <td>100</td>\n",
       "      <td>100</td>\n",
       "      <td>100</td>\n",
       "      <td>Sim</td>\n",
       "      <td>100.000000</td>\n",
       "    </tr>\n",
       "    <tr>\n",
       "      <th>458</th>\n",
       "      <td>female</td>\n",
       "      <td>group E</td>\n",
       "      <td>none</td>\n",
       "      <td>100</td>\n",
       "      <td>100</td>\n",
       "      <td>100</td>\n",
       "      <td>Sim</td>\n",
       "      <td>100.000000</td>\n",
       "    </tr>\n",
       "    <tr>\n",
       "      <th>114</th>\n",
       "      <td>female</td>\n",
       "      <td>group E</td>\n",
       "      <td>completed</td>\n",
       "      <td>99</td>\n",
       "      <td>100</td>\n",
       "      <td>100</td>\n",
       "      <td>Sim</td>\n",
       "      <td>99.666667</td>\n",
       "    </tr>\n",
       "    <tr>\n",
       "      <th>179</th>\n",
       "      <td>female</td>\n",
       "      <td>group D</td>\n",
       "      <td>completed</td>\n",
       "      <td>97</td>\n",
       "      <td>100</td>\n",
       "      <td>100</td>\n",
       "      <td>Sim</td>\n",
       "      <td>99.000000</td>\n",
       "    </tr>\n",
       "  </tbody>\n",
       "</table>\n",
       "</div>"
      ],
      "text/plain": [
       "     Gênero Raça/Etnia Curso_Prep  Nota_Matemática  Nota_Leitura  \\\n",
       "962  female    group E       none              100           100   \n",
       "916    male    group E  completed              100           100   \n",
       "458  female    group E       none              100           100   \n",
       "114  female    group E  completed               99           100   \n",
       "179  female    group D  completed               97           100   \n",
       "\n",
       "     Nota_Redação Aluno acima da média  Nota_Geral  \n",
       "962           100                  Sim  100.000000  \n",
       "916           100                  Sim  100.000000  \n",
       "458           100                  Sim  100.000000  \n",
       "114           100                  Sim   99.666667  \n",
       "179           100                  Sim   99.000000  "
      ]
     },
     "execution_count": 63,
     "metadata": {},
     "output_type": "execute_result"
    }
   ],
   "source": [
    "#SEU CÓDIGO COMEÇA AQUI\n",
    "df['Nota_Geral'] = (df['Nota_Matemática']+df['Nota_Leitura']+df['Nota_Redação'])/3\n",
    "df.sort_values('Nota_Geral', inplace= True, ascending= False)\n",
    "df.head()"
   ]
  },
  {
   "cell_type": "markdown",
   "metadata": {},
   "source": [
    "## QUESTÃO 6"
   ]
  },
  {
   "cell_type": "markdown",
   "metadata": {},
   "source": [
    "a) Conte quantos dos alunos pertencem a cada gênero."
   ]
  },
  {
   "cell_type": "code",
   "execution_count": 68,
   "metadata": {},
   "outputs": [
    {
     "data": {
      "text/plain": [
       "Gênero\n",
       "female    518\n",
       "male      482\n",
       "Name: count, dtype: int64"
      ]
     },
     "execution_count": 68,
     "metadata": {},
     "output_type": "execute_result"
    }
   ],
   "source": [
    "#SEU CÓDIGO COMEÇA AQUI\n",
    "df['Gênero'].value_counts()"
   ]
  },
  {
   "cell_type": "markdown",
   "metadata": {},
   "source": [
    "b) Conte quantos dos alunos pertencem a cada Raça/Etnia."
   ]
  },
  {
   "cell_type": "code",
   "execution_count": 69,
   "metadata": {},
   "outputs": [
    {
     "data": {
      "text/plain": [
       "Raça/Etnia\n",
       "group C    319\n",
       "group D    262\n",
       "group B    190\n",
       "group E    140\n",
       "group A     89\n",
       "Name: count, dtype: int64"
      ]
     },
     "execution_count": 69,
     "metadata": {},
     "output_type": "execute_result"
    }
   ],
   "source": [
    "#SEU CÓDIGO COMEÇA AQUI\n",
    "df['Raça/Etnia'].value_counts()"
   ]
  },
  {
   "cell_type": "markdown",
   "metadata": {},
   "source": [
    "c) Conte quantos dos alunos realizaram ou não algum curso preparatório."
   ]
  },
  {
   "cell_type": "code",
   "execution_count": 70,
   "metadata": {},
   "outputs": [
    {
     "data": {
      "text/plain": [
       "Curso_Prep\n",
       "none         642\n",
       "completed    358\n",
       "Name: count, dtype: int64"
      ]
     },
     "execution_count": 70,
     "metadata": {},
     "output_type": "execute_result"
    }
   ],
   "source": [
    "#SEU CÓDIGO COMEÇA AQUI\n",
    "df['Curso_Prep'].value_counts()"
   ]
  },
  {
   "cell_type": "markdown",
   "metadata": {},
   "source": [
    "## QUESTÃO 7"
   ]
  },
  {
   "cell_type": "markdown",
   "metadata": {},
   "source": [
    "Neste exercício deseja-se observar se o gênero de um aluno tem influência sobre seu acesso a cursos preparatórios. Para realizar esta tarefa agrupe os alunos de acordo com seus respectivos genêros (.groupby) e obtenha as proporções daqueles que realizaram algum curso e aqueles que não para cada um dos grupos (para obter a contagem da frequência relativa de um valor utilize **normalize=True**)."
   ]
  },
  {
   "cell_type": "code",
   "execution_count": 71,
   "metadata": {},
   "outputs": [
    {
     "data": {
      "text/plain": [
       "Gênero  Curso_Prep\n",
       "female  none          0.644788\n",
       "        completed     0.355212\n",
       "male    none          0.639004\n",
       "        completed     0.360996\n",
       "Name: proportion, dtype: float64"
      ]
     },
     "execution_count": 71,
     "metadata": {},
     "output_type": "execute_result"
    }
   ],
   "source": [
    "#SEU CÓDIGO COMEÇA AQUI\n",
    "\n",
    "genero = df.groupby('Gênero')\n",
    "\n",
    "media = genero[\"Curso_Prep\"].value_counts(normalize=True)\n",
    "\n",
    "media\n"
   ]
  },
  {
   "cell_type": "markdown",
   "metadata": {},
   "source": [
    "## QUESTÃO 8"
   ]
  },
  {
   "cell_type": "markdown",
   "metadata": {},
   "source": [
    "Neste exercício deseja-se observar qual das disciplinas examindas (Matemática, Leitura, Redação) é mais influênciada por cada um dos fatores qualitivos (Gênero, Raça/Etnia, Realização de Curso Preparatório). Para isso, agrupe a base de dados para cada um dos fatores qualitativos e calcule a diferença entre a maior e menor nota média em cada uma das disciplinas. A disciplina que possuir maior diferença entre as notas médias será considerada a mais influênciada."
   ]
  },
  {
   "cell_type": "markdown",
   "metadata": {},
   "source": [
    "a) Qual disciplina possui a maior diferença entre as notas médias de homens e mulheres."
   ]
  },
  {
   "cell_type": "code",
   "execution_count": 103,
   "metadata": {},
   "outputs": [
    {
     "name": "stdout",
     "output_type": "stream",
     "text": [
      "A diferença da maior média pra menor média entre gêneros na disciplina de matemática é 5.095\n",
      "A diferença da maior média pra menor média entre gêneros na disciplina de leitura é 7.135\n",
      "A diferença da maior média pra menor média entre gêneros na disciplina de redação é 9.156\n"
     ]
    }
   ],
   "source": [
    "#SEU CÓDIGO COMEÇA AQUI\n",
    "# agrupando para cada uma das variáveis de interesse\n",
    "genero = df.groupby('Gênero')\n",
    "raça = df.groupby('Raça/Etnia')\n",
    "cursoprep = df.groupby('Curso_Prep')\n",
    "\n",
    "#genero.head()\n",
    "#verificando a diferença de médias\n",
    "diferença_genero_matematica = genero['Nota_Matemática'].mean().max() - genero['Nota_Matemática'].mean().min()\n",
    "print(f'A diferença da maior média pra menor média entre gêneros na disciplina de matemática é {round(diferença_genero_matematica, 3)}')\n",
    "\n",
    "diferença_genero_leitura = genero['Nota_Leitura'].mean().max() - genero['Nota_Leitura'].mean().min()\n",
    "print(f'A diferença da maior média pra menor média entre gêneros na disciplina de leitura é {round(diferença_genero_leitura, 3)}')\n",
    "\n",
    "diferença_genero_redação = genero['Nota_Redação'].mean().max() - genero['Nota_Redação'].mean().min()\n",
    "print(f'A diferença da maior média pra menor média entre gêneros na disciplina de redação é {round(diferença_genero_redação, 3)}')\n",
    "\n",
    "# Portanto, temos que a disciplina mais influenciada é a de redação"
   ]
  },
  {
   "cell_type": "markdown",
   "metadata": {},
   "source": [
    "b) Qual disciplina possui a maior diferença entre a maior e menor nota média dentre as diferentes Raças/Etnias."
   ]
  },
  {
   "cell_type": "code",
   "execution_count": 100,
   "metadata": {},
   "outputs": [
    {
     "name": "stdout",
     "output_type": "stream",
     "text": [
      "A diferença da maior média pra menor média entre raças na disciplina de matemática é 12.192\n",
      "A diferença da maior média pra menor média entre raças na disciplina de leitura é 8.354\n",
      "A diferença da maior média pra menor média entre raças na disciplina de redação é 8.733\n"
     ]
    }
   ],
   "source": [
    "#SEU CÓDIGO COMEÇA AQUI\n",
    "#verificando a diferença de médias\n",
    "diferença_raça_matematica = raça['Nota_Matemática'].mean().max() - raça['Nota_Matemática'].mean().min()\n",
    "print(f'A diferença da maior média pra menor média entre raças na disciplina de matemática é {round(diferença_raça_matematica, 3)}')\n",
    "\n",
    "diferença_raça_leitura = raça['Nota_Leitura'].mean().max() - raça['Nota_Leitura'].mean().min()\n",
    "print(f'A diferença da maior média pra menor média entre raças na disciplina de leitura é {round(diferença_raça_leitura, 3)}')\n",
    "\n",
    "diferença_raça_redação = raça['Nota_Redação'].mean().max() - raça['Nota_Redação'].mean().min()\n",
    "print(f'A diferença da maior média pra menor média entre raças na disciplina de redação é {round(diferença_raça_redação, 3)}')\n",
    "\n",
    "# Portanto, temos que a disciplina mais influenciada é a de matemática"
   ]
  },
  {
   "cell_type": "markdown",
   "metadata": {},
   "source": [
    "c) Qual disciplina possuir a maior diferença entre as notas médias daqueles que realizaram ou não cursos preparatórios."
   ]
  },
  {
   "cell_type": "code",
   "execution_count": 101,
   "metadata": {},
   "outputs": [
    {
     "name": "stdout",
     "output_type": "stream",
     "text": [
      "A diferença da maior média pra menor média entre aqueles que fizeram curso preparatório ou não na disciplina de matemática é 5.618\n",
      "A diferença da maior média pra menor média entre aqueles que fizeram curso preparatório ou não na disciplina de leitura é 7.36\n",
      "A diferença da maior média pra menor média entre aqueles que fizeram curso preparatório ou não na disciplina de redação é 9.914\n"
     ]
    }
   ],
   "source": [
    "#SEU CÓDIGO COMEÇA AQUI\n",
    "#verificando a diferença de médias\n",
    "diferença_cursoprep_matematica = cursoprep['Nota_Matemática'].mean().max() - cursoprep['Nota_Matemática'].mean().min()\n",
    "print(f'A diferença da maior média pra menor média entre aqueles que fizeram curso preparatório ou não na disciplina de matemática é {round(diferença_cursoprep_matematica, 3)}')\n",
    "\n",
    "diferença_cursoprep_leitura = cursoprep['Nota_Leitura'].mean().max() - cursoprep['Nota_Leitura'].mean().min()\n",
    "print(f'A diferença da maior média pra menor média entre aqueles que fizeram curso preparatório ou não na disciplina de leitura é {round(diferença_cursoprep_leitura, 3)}')\n",
    "\n",
    "diferença_cursoprep_redação = cursoprep['Nota_Redação'].mean().max() - cursoprep['Nota_Redação'].mean().min()\n",
    "print(f'A diferença da maior média pra menor média entre aqueles que fizeram curso preparatório ou não na disciplina de redação é {round(diferença_cursoprep_redação, 3)}')\n",
    "\n",
    "# Portanto, temos que a disciplina mais influenciada é a de redação."
   ]
  },
  {
   "cell_type": "markdown",
   "metadata": {},
   "source": [
    "## QUESTÃO 9"
   ]
  },
  {
   "cell_type": "markdown",
   "metadata": {},
   "source": [
    "Neste exercício deseja-se observar qual dos fatores qualitativos (Gênero, Raça/Etnia, Realização de Curso Preparatório) possui maior discrepância de desempenho entre suas categorias para a nota geral do exame. Para isso, calcule a diferença entre a maior e menor nota média para cada um dos fatores e indique qual teve maior diferença. Utilize as funções (.groupby) e (.mean)."
   ]
  },
  {
   "cell_type": "markdown",
   "metadata": {},
   "source": [
    "Qual das colunas possui maior discrepância para as Notas Gerais?"
   ]
  },
  {
   "cell_type": "code",
   "execution_count": 108,
   "metadata": {},
   "outputs": [
    {
     "name": "stdout",
     "output_type": "stream",
     "text": [
      "A diferença da maior média geral pra menor entre gêneros é de 3.732\n",
      "A diferença da maior média geral pra menor entre raças é de 9.76\n",
      "A diferença da maior média geral pra menor entre aqueles que fizeram curso preparatório ou não é de 7.631\n"
     ]
    }
   ],
   "source": [
    "#SEU CÓDIGO COMEÇA AQUI\n",
    "diferença_genero_geral = genero['Nota_Geral'].mean().max() - genero['Nota_Geral'].mean().min()\n",
    "diferença_raça_geral = raça['Nota_Geral'].mean().max() - raça['Nota_Geral'].mean().min()\n",
    "diferença_cursoprep_geral = cursoprep['Nota_Geral'].mean().max() - cursoprep['Nota_Geral'].mean().min()\n",
    "\n",
    "print(f'A diferença da maior média geral pra menor entre gêneros é de {round(diferença_genero_geral, 3)}')\n",
    "print(f'A diferença da maior média geral pra menor entre raças é de {round(diferença_raça_geral, 3)}')\n",
    "print(f'A diferença da maior média geral pra menor entre aqueles que fizeram curso preparatório ou não é de {round(diferença_cursoprep_geral, 3)}')\n",
    "\n",
    "# Portanto, temos que o fator que teve maior diferença foi a Raça/Etnia."
   ]
  }
 ],
 "metadata": {
  "kernelspec": {
   "display_name": "Python 3",
   "language": "python",
   "name": "python3"
  },
  "language_info": {
   "codemirror_mode": {
    "name": "ipython",
    "version": 3
   },
   "file_extension": ".py",
   "mimetype": "text/x-python",
   "name": "python",
   "nbconvert_exporter": "python",
   "pygments_lexer": "ipython3",
   "version": "3.12.3"
  }
 },
 "nbformat": 4,
 "nbformat_minor": 2
}
